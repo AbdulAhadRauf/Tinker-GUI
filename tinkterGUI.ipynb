{
  "nbformat": 4,
  "nbformat_minor": 0,
  "metadata": {
    "colab": {
      "provenance": [],
      "authorship_tag": "ABX9TyNSeaGgwR/T5DFoCm4IAf0O",
      "include_colab_link": true
    },
    "kernelspec": {
      "name": "python3",
      "display_name": "Python 3"
    },
    "language_info": {
      "name": "python"
    }
  },
  "cells": [
    {
      "cell_type": "markdown",
      "metadata": {
        "id": "view-in-github",
        "colab_type": "text"
      },
      "source": [
        "<a href=\"https://colab.research.google.com/github/AbdulAhadRauf/Tinker-GUI/blob/main/tinkterGUI.ipynb\" target=\"_parent\"><img src=\"https://colab.research.google.com/assets/colab-badge.svg\" alt=\"Open In Colab\"/></a>"
      ]
    },
    {
      "cell_type": "markdown",
      "source": [
        "Tinker Starter Pack\n",
        "\n"
      ],
      "metadata": {
        "id": "L8lrBU81zfE-"
      }
    },
    {
      "cell_type": "code",
      "source": [
        "import tkinter\n",
        "import random\n",
        "\n",
        "def colorsel():\n",
        "    rnd = [\"red\", \"green\", \"blue\", \"white\"]\n",
        "    my_color = random.choice(rnd)\n",
        "    return my_color\n",
        "def f1():\n",
        "    lable_1[\"text\"]= text_1.get()\n",
        "    window.config(bg = colorsel())\n",
        "window= tkinter.Tk()\n",
        "window.minsize(600,600)\n",
        "window.title(\"Basics\")\n",
        "\n",
        "lable_1 = tkinter.Label(text=\"Lable_1\", font=(\"arial\", 15))\n",
        "lable_1.pack()\n",
        "\n",
        "text_1 = tkinter.Entry(width = 10)\n",
        "text_1.pack()\n",
        "\n",
        "button_1 = tkinter.Button(text = \"Click me\", command = f1)\n",
        "button_1.pack()\n",
        "\n",
        "\n",
        "tkinter.mainloop()"
      ],
      "metadata": {
        "id": "TfIH6s5FzbZ5"
      },
      "execution_count": null,
      "outputs": []
    },
    {
      "cell_type": "markdown",
      "source": [
        "# Miles to Kilometer\n",
        "using tkinter for GUI"
      ],
      "metadata": {
        "id": "r88MKRq1ygiP"
      }
    },
    {
      "cell_type": "code",
      "source": [
        "import tkinter as tkin\n",
        "def calc():\n",
        "    useri = float(user_input.get())\n",
        "    converted_txt['text'] = round(useri*1.60934)\n",
        "\n",
        "\n",
        "\n",
        "window  = tkin.Tk()\n",
        "window.title(\"Miles to Kilometer\")\n",
        "\n",
        "label_1= tkin.Label(text= \"Is Equal To\")\n",
        "label_1.grid(row=1,column=0)\n",
        "label_1.config(padx=10, pady=10)\n",
        "\n",
        "\n",
        "\n",
        "user_input = tkin.Entry(width = 10)\n",
        "user_input.grid(row=0, column=1)\n",
        "miles = tkin.Label(text = \"Miles\")\n",
        "miles.grid(row=0, column=2)\n",
        "\n",
        "converted_txt = tkin.Label()\n",
        "converted_txt.grid(row=1, column=1)\n",
        "\n",
        "label_km= tkin.Label(text= \"Km\")\n",
        "label_km.grid(row=1, column=2)\n",
        "\n",
        "button = tkin.Button(text = \"Calculate\", command = calc)\n",
        "button.grid(row=3, column=1)\n",
        "\n",
        "\n",
        "\n",
        "tkin.mainloop()"
      ],
      "metadata": {
        "id": "gZFqE0h_y00w"
      },
      "execution_count": null,
      "outputs": []
    }
  ]
}